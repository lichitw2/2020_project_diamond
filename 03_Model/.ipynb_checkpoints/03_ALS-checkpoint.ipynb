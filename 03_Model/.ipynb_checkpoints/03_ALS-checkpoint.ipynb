{
 "cells": [
  {
   "cell_type": "code",
   "execution_count": 1,
   "metadata": {},
   "outputs": [],
   "source": [
    "from pyspark.sql import SparkSession, Row\n",
    "from pyspark.sql.functions import col, lower\n",
    "from pyspark.ml.evaluation import RegressionEvaluator\n",
    "from pyspark.ml.recommendation import ALS\n",
    "import itertools"
   ]
  },
  {
   "cell_type": "code",
   "execution_count": 2,
   "metadata": {},
   "outputs": [],
   "source": [
    "# Create SparkSession\n",
    "spark = SparkSession.builder.getOrCreate()"
   ]
  },
  {
   "cell_type": "code",
   "execution_count": 3,
   "metadata": {},
   "outputs": [],
   "source": [
    "# Load Data from csv\n",
    "data = spark.read.csv(\"data.csv\",header=True,schema=\"user_id INT, product_id INT, reordered INT, product_name STRING\")\n",
    "data_clean = data.drop(\"product_name\")\n",
    "#data_clean.show(3)"
   ]
  },
  {
   "cell_type": "code",
   "execution_count": 22,
   "metadata": {},
   "outputs": [
    {
     "name": "stdout",
     "output_type": "stream",
     "text": [
      "+-------+----------+---------+\n",
      "|user_id|product_id|reordered|\n",
      "+-------+----------+---------+\n",
      "|      1|       196|       10|\n",
      "|     15|       196|        4|\n",
      "|     19|       196|        2|\n",
      "|     21|       196|        0|\n",
      "|     31|       196|        1|\n",
      "|     43|       196|        1|\n",
      "|     52|       196|       13|\n",
      "|     67|       196|       19|\n",
      "|     81|       196|        1|\n",
      "|     82|       196|        8|\n",
      "|     98|       196|        6|\n",
      "|    109|       196|        0|\n",
      "|    120|       196|        1|\n",
      "|    185|       196|        0|\n",
      "|    195|       196|       11|\n",
      "|    222|       196|        1|\n",
      "|    290|       196|        1|\n",
      "|    331|       196|        0|\n",
      "|    360|       196|        0|\n",
      "|    377|       196|        0|\n",
      "+-------+----------+---------+\n",
      "only showing top 20 rows\n",
      "\n"
     ]
    }
   ],
   "source": [
    "data_clean.show()"
   ]
  },
  {
   "cell_type": "code",
   "execution_count": 4,
   "metadata": {},
   "outputs": [
    {
     "name": "stdout",
     "output_type": "stream",
     "text": [
      "Training: 8317687, validation: 2770902, test: 2775157\n"
     ]
    }
   ],
   "source": [
    "# Splite Data\n",
    "train_data, validation_data, test_data = data_clean.randomSplit([0.6,0.2,0.2])\n",
    "nbValidating = validation_data.count()\n",
    "nbTesting    = test_data.count()\n",
    "print(\"Training: %d, validation: %d, test: %d\" % (train_data.count(), nbValidating, test_data.count()))"
   ]
  },
  {
   "cell_type": "code",
   "execution_count": 5,
   "metadata": {},
   "outputs": [
    {
     "name": "stdout",
     "output_type": "stream",
     "text": [
      "5 latent factors, regularization = 0.1, maxIter = 5 and alpha = 10: validation RMSE is 3.6903677165251256\n",
      "\n",
      "The best model has 5 latent factors, regularization = 0.1 ,maxIter = 5, alpha = 10\n"
     ]
    }
   ],
   "source": [
    "# finding best set of parameters\n",
    "ranks  = [5, 10, 15, 20]\n",
    "regParams = [0.1, 1.0 , 10.0]\n",
    "maxIter  = [5, 10, 20]\n",
    "alphas = [10, 20, 40]\n",
    "\n",
    "# initial\n",
    "min_error = float('inf')\n",
    "best_rank = -1\n",
    "best_iter = -1\n",
    "best_regularization = 0\n",
    "best_alpha = 0\n",
    "best_model = None\n",
    "\n",
    "for rank, reg, num, alpha in itertools.product(ranks, regParams, maxIter, alphas):\n",
    "    # get ALS model\n",
    "    als = ALS(maxIter=num, regParam=reg, rank=rank, alpha=alpha, implicitPrefs=True,\\\n",
    "              coldStartStrategy=\"drop\", userCol=\"user_id\", itemCol=\"product_id\", ratingCol=\"reordered\")\n",
    "    # train ALS model\n",
    "    model = als.fit(train_data)\n",
    "    # evaluate the model by computing the RMSE on the validation data\n",
    "    predictions = model.transform(validation_data)\n",
    "    evaluator = RegressionEvaluator(metricName=\"rmse\",\n",
    "                                    labelCol=\"reordered\",\n",
    "                                    predictionCol=\"prediction\")\n",
    "    rmse = evaluator.evaluate(predictions)\n",
    "    print('{} latent factors, regularization = {}, maxIter = {} and alpha = {}: '\n",
    "          'validation RMSE is {}'.format(rank, reg, num, alpha ,rmse))\n",
    "    \n",
    "    if rmse < min_error:\n",
    "        min_error = rmse\n",
    "        best_rank = rank\n",
    "        best_iter = num\n",
    "        best_regularization = reg\n",
    "        best_alpha = alpha\n",
    "        best_model = model\n",
    "                        \n",
    "    print('\\nThe best model has {} latent factors, regularization = {} ,maxIter = {}, alpha = {}'\\\n",
    "          .format(best_rank, best_regularization, best_iter, best_alpha))"
   ]
  },
  {
   "cell_type": "code",
   "execution_count": 10,
   "metadata": {},
   "outputs": [
    {
     "name": "stdout",
     "output_type": "stream",
     "text": [
      "The out-of-sample RMSE of the best tuned model is: 3.691322615742211\n"
     ]
    }
   ],
   "source": [
    "# train ALS model\n",
    "als = ALS(maxIter=best_iter, regParam=best_regularization, rank=best_rank, alpha=best_alpha, implicitPrefs=True,\\\n",
    "          coldStartStrategy=\"drop\", userCol=\"user_id\", itemCol=\"product_id\", ratingCol=\"reordered\")\n",
    "\n",
    "model = als.fit(train_data)\n",
    "\n",
    "# test model\n",
    "predictions = model.transform(test_data)\n",
    "evaluator = RegressionEvaluator(metricName=\"rmse\",\n",
    "                                labelCol=\"reordered\",\n",
    "                                predictionCol=\"prediction\")\n",
    "\n",
    "rmse = evaluator.evaluate(predictions)\n",
    "print('The out-of-sample RMSE of the best tuned model is:', rmse)"
   ]
  },
  {
   "cell_type": "code",
   "execution_count": 11,
   "metadata": {},
   "outputs": [
    {
     "name": "stdout",
     "output_type": "stream",
     "text": [
      "+-------+--------------------+\n",
      "|user_id|     recommendations|\n",
      "+-------+--------------------+\n",
      "|    148|[[26620, 0.055957...|\n",
      "|    463|[[19660, 0.384348...|\n",
      "|    471|[[24852, 0.537272...|\n",
      "|    496|[[19660, 1.290631...|\n",
      "|    833|[[21903, 0.901169...|\n",
      "|   1088|[[47766, 0.532761...|\n",
      "|   1238|[[24852, 1.201401...|\n",
      "|   1342|[[10070, 0.104699...|\n",
      "|   1580|[[19660, 0.476135...|\n",
      "|   1591|[[24852, 0.262911...|\n",
      "+-------+--------------------+\n",
      "only showing top 10 rows\n",
      "\n"
     ]
    }
   ],
   "source": [
    "# Generate top 10 product recommendations for each user\n",
    "userRecs = model.recommendForAllUsers(10)\n",
    "userRecs.show(10)"
   ]
  },
  {
   "cell_type": "code",
   "execution_count": 12,
   "metadata": {},
   "outputs": [
    {
     "name": "stdout",
     "output_type": "stream",
     "text": [
      "+----------+--------------------+\n",
      "|product_id|     recommendations|\n",
      "+----------+--------------------+\n",
      "|       148|[[2335, 0.8462036...|\n",
      "|       463|[[40990, 0.0], [4...|\n",
      "|       471|[[151061, 0.07268...|\n",
      "|       496|[[74315, 0.008597...|\n",
      "|       833|[[40990, 0.0], [4...|\n",
      "|      1088|[[74315, 0.002776...|\n",
      "|      1238|[[40990, 0.0], [4...|\n",
      "|      1342|[[77509, 0.003764...|\n",
      "|      1580|[[151061, 0.00138...|\n",
      "|      1591|[[148280, 6.40124...|\n",
      "+----------+--------------------+\n",
      "only showing top 10 rows\n",
      "\n"
     ]
    }
   ],
   "source": [
    "# Generate top 10 user recommendations for each product\n",
    "prodRecs = model.recommendForAllItems(10)\n",
    "prodRecs.show(10)"
   ]
  },
  {
   "cell_type": "code",
   "execution_count": 18,
   "metadata": {},
   "outputs": [
    {
     "name": "stdout",
     "output_type": "stream",
     "text": [
      "+-------+--------------------+\n",
      "|user_id|     recommendations|\n",
      "+-------+--------------------+\n",
      "|   3794|[[23909, 1.251553...|\n",
      "|   8086|[[24852, 1.178453...|\n",
      "|  11748|[[19348, 0.141449...|\n",
      "+-------+--------------------+\n",
      "\n"
     ]
    }
   ],
   "source": [
    "# Generate top 10 product recommendations for a specified set of users\n",
    "users = data_clean.select(als.getUserCol()).distinct().limit(3)\n",
    "userSubsetRecs = model.recommendForUserSubset(users, 10)\n",
    "userSubsetRecs.show(10)"
   ]
  },
  {
   "cell_type": "code",
   "execution_count": 20,
   "metadata": {},
   "outputs": [
    {
     "name": "stdout",
     "output_type": "stream",
     "text": [
      "+----------+--------------------+\n",
      "|product_id|     recommendations|\n",
      "+----------+--------------------+\n",
      "|     23271|[[192754, 0.10195...|\n",
      "|     29993|[[149869, 0.88273...|\n",
      "|     29894|[[57546, 0.150543...|\n",
      "+----------+--------------------+\n",
      "\n"
     ]
    }
   ],
   "source": [
    "# Generate top 10 user recommendations for a specified set of products\n",
    "products = data_clean.select(als.getItemCol()).distinct().limit(3)\n",
    "prodSubSetRecs = model.recommendForItemSubset(products, 10)\n",
    "prodSubSetRecs.show(10)"
   ]
  }
 ],
 "metadata": {
  "kernelspec": {
   "display_name": "Python 3",
   "language": "python",
   "name": "python3"
  },
  "language_info": {
   "codemirror_mode": {
    "name": "ipython",
    "version": 3
   },
   "file_extension": ".py",
   "mimetype": "text/x-python",
   "name": "python",
   "nbconvert_exporter": "python",
   "pygments_lexer": "ipython3",
   "version": "3.8.4"
  }
 },
 "nbformat": 4,
 "nbformat_minor": 4
}
